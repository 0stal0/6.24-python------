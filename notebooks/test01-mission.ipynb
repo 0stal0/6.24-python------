{
 "cells": [
  {
   "cell_type": "code",
   "execution_count": 42,
   "metadata": {},
   "outputs": [
    {
     "name": "stdout",
     "output_type": "stream",
     "text": [
      "<class 'pandas.core.frame.DataFrame'>\n",
      "RangeIndex: 5 entries, 0 to 4\n",
      "Data columns (total 3 columns):\n",
      " #   Column  Non-Null Count  Dtype \n",
      "---  ------  --------------  ----- \n",
      " 0   name    5 non-null      object\n",
      " 1   age     5 non-null      int64 \n",
      " 2   city    5 non-null      object\n",
      "dtypes: int64(1), object(2)\n",
      "memory usage: 248.0+ bytes\n"
     ]
    }
   ],
   "source": [
    "#데이터 프레임 생\n",
    "import pandas as pd\n",
    "\n",
    "data = {\n",
    "\n",
    "'name' : ['Alice','Bob','Charlie','David','Eve'],\n",
    "'age' : [24,27,22,32,29],\n",
    "'city' : ['New York','Los Angeles','Chicago','Houston','Phoenix']\n",
    "}\n",
    "\n",
    "dfdata = pd.DataFrame(data)\n",
    "\n",
    "# 행과 열\n",
    "\n",
    "dfdata.shape\n",
    "\n",
    "\n",
    "# 요약정보\n",
    "dfdata.info()"
   ]
  },
  {
   "cell_type": "code",
   "execution_count": 43,
   "metadata": {},
   "outputs": [
    {
     "data": {
      "text/plain": [
       "(5, 3)"
      ]
     },
     "execution_count": 43,
     "metadata": {},
     "output_type": "execute_result"
    }
   ],
   "source": [
    "# 행과 열\n",
    "dfdata.shape"
   ]
  },
  {
   "cell_type": "code",
   "execution_count": 44,
   "metadata": {},
   "outputs": [
    {
     "name": "stdout",
     "output_type": "stream",
     "text": [
      "<class 'pandas.core.frame.DataFrame'>\n",
      "RangeIndex: 5 entries, 0 to 4\n",
      "Data columns (total 3 columns):\n",
      " #   Column  Non-Null Count  Dtype \n",
      "---  ------  --------------  ----- \n",
      " 0   name    5 non-null      object\n",
      " 1   age     5 non-null      int64 \n",
      " 2   city    5 non-null      object\n",
      "dtypes: int64(1), object(2)\n",
      "memory usage: 248.0+ bytes\n"
     ]
    }
   ],
   "source": [
    "# 요약정보\n",
    "dfdata.info()"
   ]
  },
  {
   "cell_type": "code",
   "execution_count": 45,
   "metadata": {},
   "outputs": [
    {
     "name": "stdout",
     "output_type": "stream",
     "text": [
      "평균: 26.8\n",
      "최대값: 32\n",
      "최소값: 22\n"
     ]
    }
   ],
   "source": [
    "# age 열 선택\n",
    "age_series = dfdata['age']\n",
    "\n",
    "# age 의 평균\n",
    "age_mean = dfdata['age'].mean()\n",
    "\n",
    "# age 최소값\n",
    "age_max = dfdata['age'].max()\n",
    "\n",
    "# age 최대값\n",
    "age_min = dfdata['age'].min()\n",
    "\n",
    "print('평균:', age_mean)\n",
    "print('최대값:', age_max)\n",
    "print('최소값:', age_min)\n",
    "\n"
   ]
  },
  {
   "cell_type": "code",
   "execution_count": 46,
   "metadata": {},
   "outputs": [
    {
     "name": "stdout",
     "output_type": "stream",
     "text": [
      "      name  age         city  scores\n",
      "0    Alice   24     New York      85\n",
      "1      Bob   27  Los Angeles      90\n",
      "2  Charlie   22      Chicago      78\n",
      "3    David   32      Houston      92\n",
      "4      Eve   29      Phoenix      88\n"
     ]
    }
   ],
   "source": [
    "# 새로운 값\n",
    "scores = [85,90,78,92,88]\n",
    "\n",
    "# 새로운 값 추가\n",
    "dfdata['scores'] = scores\n",
    "\n",
    "# 업데이트 값 출력\n",
    "print(dfdata)\n"
   ]
  },
  {
   "cell_type": "code",
   "execution_count": 49,
   "metadata": {},
   "outputs": [
    {
     "name": "stdout",
     "output_type": "stream",
     "text": [
      "    name  age         city  scores\n",
      "1    Bob   27  Los Angeles      90\n",
      "3  David   32      Houston      92\n",
      "4    Eve   29      Phoenix      88\n"
     ]
    }
   ],
   "source": [
    "# 나이 25이상 행 필터링\n",
    "filter_age = dfdata[dfdata['age'] >= 25]\n",
    "\n",
    "# 필터링 데이터 프레임 출력\n",
    "print(filter_age)\n"
   ]
  },
  {
   "cell_type": "code",
   "execution_count": 50,
   "metadata": {},
   "outputs": [
    {
     "name": "stdout",
     "output_type": "stream",
     "text": [
      "      name  age         city  scores\n",
      "2  Charlie   22      Chicago      78\n",
      "0    Alice   24     New York      85\n",
      "1      Bob   27  Los Angeles      90\n",
      "4      Eve   29      Phoenix      88\n",
      "3    David   32      Houston      92\n"
     ]
    }
   ],
   "source": [
    "# age  기준으로 오름차순 정렬\n",
    "sort_age = dfdata.sort_values(by= 'age')\n",
    "\n",
    "# 출력\n",
    "print(sort_age)"
   ]
  }
 ],
 "metadata": {
  "kernelspec": {
   "display_name": "Python 3",
   "language": "python",
   "name": "python3"
  },
  "language_info": {
   "codemirror_mode": {
    "name": "ipython",
    "version": 3
   },
   "file_extension": ".py",
   "mimetype": "text/x-python",
   "name": "python",
   "nbconvert_exporter": "python",
   "pygments_lexer": "ipython3",
   "version": "3.10.13"
  }
 },
 "nbformat": 4,
 "nbformat_minor": 2
}
